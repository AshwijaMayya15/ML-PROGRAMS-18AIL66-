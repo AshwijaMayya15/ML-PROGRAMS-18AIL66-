{
 "cells": [
  {
   "cell_type": "code",
   "execution_count": 1,
   "id": "29e6bda8",
   "metadata": {},
   "outputs": [
    {
     "name": "stdout",
     "output_type": "stream",
     "text": [
      "0                      I love this sandwich\n",
      "1                  This is an amazing place\n",
      "2        I feel very good about these beers\n",
      "3                      This is my best work\n",
      "4                      What an awesome view\n",
      "5             I do not like this restaurant\n",
      "6                  I am tired of this stuff\n",
      "7                    I can't deal with this\n",
      "8                      He is my sworn enemy\n",
      "9                       My boss is horrible\n",
      "10                 This is an awesome place\n",
      "11    I do not like the taste of this juice\n",
      "12                          I love to dance\n",
      "13        I am sick and tired of this place\n",
      "14                     What a great holiday\n",
      "15           That is a bad locality to stay\n",
      "16           We will have good fun tomorrow\n",
      "17         I went to my enemy's house today\n",
      "Name: message, dtype: object 0     1\n",
      "1     1\n",
      "2     1\n",
      "3     1\n",
      "4     1\n",
      "5     0\n",
      "6     0\n",
      "7     0\n",
      "8     0\n",
      "9     0\n",
      "10    1\n",
      "11    0\n",
      "12    1\n",
      "13    0\n",
      "14    1\n",
      "15    0\n",
      "16    1\n",
      "17    0\n",
      "Name: labelnum, dtype: int64\n"
     ]
    }
   ],
   "source": [
    "import pandas as pd\n",
    "msg=pd.read_csv('naivetext.csv',names=['message','label'])\n",
    "X=msg.message\n",
    "msg['labelnum']=msg.label.map({'pos':1,'neg':0})\n",
    "Y=msg.labelnum\n",
    "print(X,Y)"
   ]
  },
  {
   "cell_type": "code",
   "execution_count": 2,
   "id": "7397a7d3",
   "metadata": {},
   "outputs": [
    {
     "name": "stdout",
     "output_type": "stream",
     "text": [
      "Length of training set: 13\n",
      "Length of testing set: 5\n"
     ]
    }
   ],
   "source": [
    "from sklearn.model_selection import train_test_split\n",
    "xtrain,xtest,ytrain,ytest=train_test_split(X,Y)\n",
    "print(\"Length of training set:\",len(xtrain))\n",
    "print(\"Length of testing set:\",len(xtest))"
   ]
  },
  {
   "cell_type": "code",
   "execution_count": 3,
   "id": "cfc34569",
   "metadata": {},
   "outputs": [],
   "source": [
    "from sklearn.feature_extraction.text import CountVectorizer\n",
    "cnt=CountVectorizer()\n",
    "xtraindtm=cnt.fit_transform(xtrain)\n",
    "xtestdtm=cnt.transform(xtest)"
   ]
  },
  {
   "cell_type": "code",
   "execution_count": 4,
   "id": "323a6668",
   "metadata": {},
   "outputs": [
    {
     "name": "stdout",
     "output_type": "stream",
     "text": [
      "  (0, 39)\t1\n",
      "  (0, 35)\t1\n",
      "  (0, 23)\t1\n",
      "  (0, 11)\t1\n",
      "  (0, 18)\t1\n",
      "  (0, 36)\t1\n",
      "  (1, 33)\t1\n",
      "  (1, 19)\t1\n",
      "  (1, 2)\t1\n",
      "  (1, 1)\t1\n",
      "  (1, 26)\t1\n",
      "  (2, 35)\t1\n",
      "  (2, 22)\t1\n",
      "  (2, 8)\t1\n",
      "  (3, 33)\t1\n",
      "  (3, 10)\t1\n",
      "  (3, 24)\t1\n",
      "  (3, 20)\t1\n",
      "  (3, 27)\t1\n",
      "  (4, 38)\t1\n",
      "  (4, 41)\t1\n",
      "  (4, 15)\t1\n",
      "  (4, 13)\t1\n",
      "  (4, 12)\t1\n",
      "  (4, 37)\t1\n",
      "  :\t:\n",
      "  (7, 31)\t1\n",
      "  (8, 33)\t1\n",
      "  (8, 26)\t1\n",
      "  (8, 0)\t1\n",
      "  (8, 28)\t1\n",
      "  (8, 3)\t1\n",
      "  (8, 34)\t1\n",
      "  (8, 25)\t1\n",
      "  (9, 33)\t1\n",
      "  (9, 19)\t1\n",
      "  (9, 2)\t1\n",
      "  (9, 26)\t1\n",
      "  (9, 4)\t1\n",
      "  (10, 33)\t1\n",
      "  (10, 0)\t1\n",
      "  (10, 34)\t1\n",
      "  (10, 25)\t1\n",
      "  (10, 30)\t1\n",
      "  (11, 40)\t1\n",
      "  (11, 14)\t1\n",
      "  (11, 17)\t1\n",
      "  (12, 33)\t1\n",
      "  (12, 7)\t1\n",
      "  (12, 9)\t1\n",
      "  (12, 42)\t1\n"
     ]
    }
   ],
   "source": [
    "print(xtraindtm)"
   ]
  },
  {
   "cell_type": "code",
   "execution_count": 5,
   "id": "2a195fae",
   "metadata": {},
   "outputs": [],
   "source": [
    "from sklearn.naive_bayes import MultinomialNB\n",
    "clf=MultinomialNB().fit(xtraindtm,ytrain)\n",
    "predict=clf.predict(xtestdtm)"
   ]
  },
  {
   "cell_type": "code",
   "execution_count": 6,
   "id": "359e6f16",
   "metadata": {},
   "outputs": [
    {
     "name": "stdout",
     "output_type": "stream",
     "text": [
      "Accuracy Score: 0.8\n",
      "Precision score: 0.75\n",
      "Recall score: 1.0\n"
     ]
    }
   ],
   "source": [
    "from sklearn.metrics import accuracy_score,precision_score,recall_score\n",
    "print(\"Accuracy Score:\",accuracy_score(ytest,predict))\n",
    "print(\"Precision score:\",precision_score(ytest,predict))\n",
    "print(\"Recall score:\",recall_score(ytest,predict))"
   ]
  },
  {
   "cell_type": "code",
   "execution_count": 7,
   "id": "ceac5d76",
   "metadata": {},
   "outputs": [],
   "source": [
    "docs_new=['i love world','i hate crime']\n"
   ]
  },
  {
   "cell_type": "code",
   "execution_count": 8,
   "id": "27c929b9",
   "metadata": {},
   "outputs": [
    {
     "name": "stdout",
     "output_type": "stream",
     "text": [
      "i love world->1\n",
      "i hate crime->1\n"
     ]
    }
   ],
   "source": [
    "cntnew=cnt.transform(docs_new)\n",
    "predictnew=clf.predict(cntnew)\n",
    "for i,j in zip(docs_new,predictnew):\n",
    "    print(\"%s->%s\" %(i,msg.labelnum[j]))"
   ]
  },
  {
   "cell_type": "code",
   "execution_count": null,
   "id": "087157c5",
   "metadata": {},
   "outputs": [],
   "source": []
  }
 ],
 "metadata": {
  "kernelspec": {
   "display_name": "Python 3 (ipykernel)",
   "language": "python",
   "name": "python3"
  },
  "language_info": {
   "codemirror_mode": {
    "name": "ipython",
    "version": 3
   },
   "file_extension": ".py",
   "mimetype": "text/x-python",
   "name": "python",
   "nbconvert_exporter": "python",
   "pygments_lexer": "ipython3",
   "version": "3.10.9"
  }
 },
 "nbformat": 4,
 "nbformat_minor": 5
}
