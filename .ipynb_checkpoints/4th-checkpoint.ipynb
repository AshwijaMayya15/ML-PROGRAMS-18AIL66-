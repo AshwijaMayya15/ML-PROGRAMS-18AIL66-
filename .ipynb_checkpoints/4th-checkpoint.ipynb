{
 "cells": [
  {
   "cell_type": "code",
   "execution_count": 7,
   "id": "1d74f44b",
   "metadata": {},
   "outputs": [
    {
     "name": "stdout",
     "output_type": "stream",
     "text": [
      "['PlayTennis', 'Outlook', 'Temperature', 'Humidity', 'Wind']\n",
      "['Outlook', 'Temperature', 'Humidity', 'Wind']\n"
     ]
    }
   ],
   "source": [
    "from collections import Counter\n",
    "import pandas as pd\n",
    "import math\n",
    "from pprint import pprint\n",
    "def id3(df,tan,an,dc=None):\n",
    "    cnt=Counter(df[tan])\n",
    "    print(cnt)\n",
    "    if len(cnt)==1:\n",
    "        print(len(cnt))\n",
    "        return next(iter(cnt))\n",
    "    elif df.empty or not an:\n",
    "        return dc\n",
    "    else:\n",
    "        dc=max(cnt.keys())\n",
    "        gainz=[information_gain(df,attr,tan) for attr in an]\n",
    "        print(\"Gain:\",gainz)\n",
    "        iom=gainz.index(max(gainz))\n",
    "        bestatt=an[iom]\n",
    "        print(\"Best Attribute:\",bestatt)\n",
    "        tree={bestatt:{}}\n",
    "        ran=[i for i in an if i!=bestatt]\n",
    "        for j,k in df.groupby(bestatt):\n",
    "            subtree=id3(k,tan,ran,dc)\n",
    "            tree[bestatt][j]=subtree\n",
    "    return tree\n",
    "df_tennis=pd.read_csv('playtennis.csv')\n",
    "an=list(df_tennis)\n",
    "print(an)\n",
    "an.remove('PlayTennis')\n",
    "print(an)\n",
    "    "
   ]
  },
  {
   "cell_type": "code",
   "execution_count": 8,
   "id": "7e453e1a",
   "metadata": {},
   "outputs": [],
   "source": [
    "def entropy(probs):\n",
    "    return sum([-prob*math.log(prob,2) for prob in probs])"
   ]
  },
  {
   "cell_type": "code",
   "execution_count": 9,
   "id": "67034e48",
   "metadata": {},
   "outputs": [],
   "source": [
    "def entropyoflist(alist):\n",
    "    cnt=Counter(alist)\n",
    "    na=len(alist)*1.0\n",
    "    probs=[x/na for x in cnt.values()]\n",
    "    return entropy(probs)"
   ]
  },
  {
   "cell_type": "code",
   "execution_count": 15,
   "id": "5cafa69f",
   "metadata": {},
   "outputs": [],
   "source": [
    "def information_gain(df,san,tan):\n",
    "    a=df.groupby(san)\n",
    "    c=len(df.index)*1.0\n",
    "    b=a.agg({tan:[entropyoflist,lambda x:len(x)/c]})[tan]\n",
    "    b.columns=['a','b']\n",
    "    newel=sum(b['a']*b['b'])\n",
    "    oldel=entropyoflist(df[tan])\n",
    "    return oldel-newel\n"
   ]
  },
  {
   "cell_type": "code",
   "execution_count": 16,
   "id": "456cf042",
   "metadata": {},
   "outputs": [
    {
     "name": "stdout",
     "output_type": "stream",
     "text": [
      "Counter({'Yes': 9, 'No': 5})\n",
      "Gain: [0.2467498197744391, 0.029222565658954647, 0.15183550136234136, 0.04812703040826927]\n",
      "Best Attribute: Outlook\n",
      "Counter({'Yes': 4})\n",
      "1\n",
      "Counter({'Yes': 3, 'No': 2})\n",
      "Gain: [0.01997309402197489, 0.01997309402197489, 0.9709505944546686]\n",
      "Best Attribute: Wind\n",
      "Counter({'No': 2})\n",
      "1\n",
      "Counter({'Yes': 3})\n",
      "1\n",
      "Counter({'No': 3, 'Yes': 2})\n",
      "Gain: [0.5709505944546686, 0.9709505944546686, 0.01997309402197489]\n",
      "Best Attribute: Humidity\n",
      "Counter({'No': 3})\n",
      "1\n",
      "Counter({'Yes': 2})\n",
      "1\n",
      "{'Outlook': {'Overcast': 'Yes',\n",
      "             'Rain': {'Wind': {'Strong': 'No', 'Weak': 'Yes'}},\n",
      "             'Sunny': {'Humidity': {'High': 'No', 'Normal': 'Yes'}}}}\n"
     ]
    }
   ],
   "source": [
    "tree=id3(df_tennis,'PlayTennis',an)\n",
    "pprint(tree)"
   ]
  },
  {
   "cell_type": "code",
   "execution_count": 17,
   "id": "161cc3ae",
   "metadata": {},
   "outputs": [],
   "source": [
    "def classify(inst,tree,default=None):\n",
    "    attr=next(iter(tree))\n",
    "    if inst[attr] in tree[attr].keys():\n",
    "        res=tree[attr][inst[attr]]\n",
    "        if isinstance(res,dict):\n",
    "            return classify(inst,res)\n",
    "        else:\n",
    "            return res\n",
    "    else:\n",
    "        return default"
   ]
  },
  {
   "cell_type": "code",
   "execution_count": 18,
   "id": "fa418a81",
   "metadata": {},
   "outputs": [
    {
     "data": {
      "text/plain": [
       "0    Yes\n",
       "1     No\n",
       "dtype: object"
      ]
     },
     "execution_count": 18,
     "metadata": {},
     "output_type": "execute_result"
    }
   ],
   "source": [
    "dfnew=pd.read_csv('playtennis_test.csv')\n",
    "dfnew.apply(classify,axis=1,args=(tree,''))"
   ]
  },
  {
   "cell_type": "code",
   "execution_count": null,
   "id": "09fc32da",
   "metadata": {},
   "outputs": [],
   "source": []
  }
 ],
 "metadata": {
  "kernelspec": {
   "display_name": "Python 3 (ipykernel)",
   "language": "python",
   "name": "python3"
  },
  "language_info": {
   "codemirror_mode": {
    "name": "ipython",
    "version": 3
   },
   "file_extension": ".py",
   "mimetype": "text/x-python",
   "name": "python",
   "nbconvert_exporter": "python",
   "pygments_lexer": "ipython3",
   "version": "3.10.9"
  }
 },
 "nbformat": 4,
 "nbformat_minor": 5
}
