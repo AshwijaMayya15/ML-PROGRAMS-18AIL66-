{
 "cells": [
  {
   "cell_type": "code",
   "execution_count": 6,
   "id": "6b876e3c",
   "metadata": {},
   "outputs": [
    {
     "name": "stdout",
     "output_type": "stream",
     "text": [
      "['Sunny', 'Warm', 'Normal', 'Strong', 'Warm', 'Same', 'Yes']\n",
      "['Sunny', 'Warm', 'High', 'Strong', 'Warm', 'Same', 'Yes']\n",
      "['Rainy', 'Cold', 'High', 'Strong', 'Warm', 'Change', 'No']\n",
      "['Sunny', 'Warm', 'High', 'Strong', 'Cool', 'Change', 'Yes']\n"
     ]
    }
   ],
   "source": [
    "import csv\n",
    "x=[];\n",
    "with open('data.csv') as csvfile:\n",
    "    lines=csv.reader(csvfile)\n",
    "    for row in lines:\n",
    "        print(row)\n",
    "        if row[len(row)-1]==\"Yes\" or \"No\":\n",
    "            x.append(row)\n",
    "na=len(x[0])-1"
   ]
  },
  {
   "cell_type": "code",
   "execution_count": 7,
   "id": "f7c5a5be",
   "metadata": {},
   "outputs": [
    {
     "name": "stdout",
     "output_type": "stream",
     "text": [
      "['%', '%', '%', '%', '%', '%']\n",
      "['?', '?', '?', '?', '?', '?']\n",
      "4\n"
     ]
    }
   ],
   "source": [
    "S=['%']*na\n",
    "G=['?']*na\n",
    "print(S)\n",
    "print(G)\n",
    "print(len(x))"
   ]
  },
  {
   "cell_type": "code",
   "execution_count": 8,
   "id": "4d596c70",
   "metadata": {},
   "outputs": [
    {
     "name": "stdout",
     "output_type": "stream",
     "text": [
      "['Sunny', 'Warm', 'Normal', 'Strong', 'Warm', 'Same']\n"
     ]
    }
   ],
   "source": [
    "for j in range(0,na):\n",
    "    S[j]=x[0][j];\n",
    "print(S)"
   ]
  },
  {
   "cell_type": "code",
   "execution_count": 9,
   "id": "14414131",
   "metadata": {},
   "outputs": [
    {
     "name": "stdout",
     "output_type": "stream",
     "text": [
      "------------------------------------------------------------\n",
      "For iteration 1 the hypothesis is S1 ['Sunny', 'Warm', 'Normal', 'Strong', 'Warm', 'Same']\n",
      "For iteration 1 the hypothesis is G1 ['?', '?', '?', '?', '?', '?']\n",
      "------------------------------------------------------------\n",
      "For iteration 2 the hypothesis is S2 ['Sunny', 'Warm', '?', 'Strong', 'Warm', 'Same']\n",
      "For iteration 2 the hypothesis is G2 ['?', '?', '?', '?', '?', '?']\n",
      "------------------------------------------------------------\n",
      "For iteration 3 the hypothesis is S3 ['Sunny', 'Warm', '?', 'Strong', 'Warm', 'Same']\n",
      "For iteration 3 the hypothesis is G3 [['Sunny', '?', '?', '?', '?', '?'], ['?', 'Warm', '?', '?', '?', '?'], ['?', '?', '?', '?', '?', 'Same']]\n",
      "------------------------------------------------------------\n",
      "For iteration 4 the hypothesis is S4 ['Sunny', 'Warm', '?', 'Strong', '?', '?']\n",
      "For iteration 4 the hypothesis is G4 [['Sunny', '?', '?', '?', '?', '?'], ['?', 'Warm', '?', '?', '?', '?']]\n"
     ]
    }
   ],
   "source": [
    "a=[]\n",
    "for i in range(0,len(x)):\n",
    "    if x[i][na]=='Yes':\n",
    "        for j in range(0,na):\n",
    "            if x[i][j]!=S[j]:\n",
    "                S[j]='?'\n",
    "        for j in range(0,na):\n",
    "            for k in range(1,len(a)):\n",
    "                if a[k][j]!='?' and a[k][j]!=S[j]:\n",
    "                    del a[k]\n",
    "        print(\"-\"*60)\n",
    "        print(\"For iteration {0} the hypothesis is S{0}\".format(i+1),S)\n",
    "        if (len(a)==0):\n",
    "            print(\"For iteration {0} the hypothesis is G{0}\".format(i+1),G)\n",
    "        else:\n",
    "            print(\"For iteration {0} the hypothesis is G{0}\".format(i+1),a)\n",
    "            \n",
    "    if x[i][na]=='No':\n",
    "        for j in range(0,na):\n",
    "            if S[j]!=x[i][j] and S[j]!='?':\n",
    "                G[j]=S[j]\n",
    "                a.append(G)\n",
    "                G=['?']*na\n",
    "        print(\"-\"*60)\n",
    "        print(\"For iteration {0} the hypothesis is S{0}\".format(i+1),S)\n",
    "        print(\"For iteration {0} the hypothesis is G{0}\".format(i+1),a)\n"
   ]
  }
 ],
 "metadata": {
  "kernelspec": {
   "display_name": "Python 3 (ipykernel)",
   "language": "python",
   "name": "python3"
  },
  "language_info": {
   "codemirror_mode": {
    "name": "ipython",
    "version": 3
   },
   "file_extension": ".py",
   "mimetype": "text/x-python",
   "name": "python",
   "nbconvert_exporter": "python",
   "pygments_lexer": "ipython3",
   "version": "3.10.9"
  }
 },
 "nbformat": 4,
 "nbformat_minor": 5
}
