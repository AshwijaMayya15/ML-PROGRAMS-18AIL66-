{
 "cells": [
  {
   "cell_type": "code",
   "execution_count": 13,
   "id": "b4683f57",
   "metadata": {},
   "outputs": [
    {
     "name": "stdout",
     "output_type": "stream",
     "text": [
      "<_csv.reader object at 0x00000125330CE500>\n",
      "['Sunny', 'Warm', 'Normal', 'Strong', 'Warm', 'Same', 'Yes']\n",
      "['Sunny', 'Warm', 'High', 'Strong', 'Warm', 'Same', 'Yes']\n",
      "['Rainy', 'Cold', 'High', 'Strong', 'Warm', 'Change', 'No']\n",
      "['Sunny', 'Warm', 'High', 'Strong', 'Cool', 'Change', 'Yes']\n"
     ]
    }
   ],
   "source": [
    "import csv\n",
    "a=[]\n",
    "with open('data.csv') as b:\n",
    "    c=csv.reader(b,delimiter=',')\n",
    "    print(c)\n",
    "    for row in c:\n",
    "        print(row)\n",
    "        a.append(row)\n",
    "na=len(a[0])-1\n",
    "hypo=['%']*na"
   ]
  },
  {
   "cell_type": "code",
   "execution_count": 15,
   "id": "69c9ee9e",
   "metadata": {},
   "outputs": [
    {
     "name": "stdout",
     "output_type": "stream",
     "text": [
      "['Sunny', 'Warm', '?', 'Strong', '?', '?']\n"
     ]
    }
   ],
   "source": [
    "for inst in a:\n",
    "    if inst[-1]=='Yes':\n",
    "        for i in range(len(inst)-1):\n",
    "            if hypo[i]=='%':\n",
    "                hypo[i]=inst[i]\n",
    "            elif hypo[i]!=inst[i]:\n",
    "                hypo[i]='?'\n",
    "print(hypo)\n",
    "            "
   ]
  }
 ],
 "metadata": {
  "kernelspec": {
   "display_name": "Python 3 (ipykernel)",
   "language": "python",
   "name": "python3"
  },
  "language_info": {
   "codemirror_mode": {
    "name": "ipython",
    "version": 3
   },
   "file_extension": ".py",
   "mimetype": "text/x-python",
   "name": "python",
   "nbconvert_exporter": "python",
   "pygments_lexer": "ipython3",
   "version": "3.10.9"
  }
 },
 "nbformat": 4,
 "nbformat_minor": 5
}
