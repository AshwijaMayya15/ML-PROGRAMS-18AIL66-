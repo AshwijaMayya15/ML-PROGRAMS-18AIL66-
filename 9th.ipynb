{
 "cells": [
  {
   "cell_type": "code",
   "execution_count": 1,
   "id": "cca2f916",
   "metadata": {},
   "outputs": [],
   "source": [
    "import pandas as pd\n",
    "import numpy as np\n",
    "from pgmpy.models import BayesianNetwork\n",
    "from pgmpy.estimators import MaximumLikelihoodEstimator\n",
    "from pgmpy.inference import VariableElimination\n"
   ]
  },
  {
   "cell_type": "code",
   "execution_count": 5,
   "id": "1c79ecd1",
   "metadata": {},
   "outputs": [],
   "source": [
    "names=['a','b','c','d','e','f','g','h','i','j','k','l','m','heartdiesease']\n",
    "hd=pd.read_csv('heart.csv',names=names)\n",
    "hd=hd.replace('?',np.nan)\n",
    "models=BayesianNetwork([('a','d'),('a','f'),('b','d'),('i','d'),('d','heartdiesease')])\n",
    "models.fit(hd,estimator=MaximumLikelihoodEstimator)"
   ]
  },
  {
   "cell_type": "code",
   "execution_count": 7,
   "id": "690a8d37",
   "metadata": {},
   "outputs": [
    {
     "name": "stdout",
     "output_type": "stream",
     "text": [
      "+------------------+----------------------+\n",
      "| heartdiesease    |   phi(heartdiesease) |\n",
      "+==================+======================+\n",
      "| heartdiesease(0) |               0.4150 |\n",
      "+------------------+----------------------+\n",
      "| heartdiesease(1) |               0.5850 |\n",
      "+------------------+----------------------+\n"
     ]
    }
   ],
   "source": [
    "clf=VariableElimination(models)\n",
    "hdi=clf.query(variables=['heartdiesease'],evidence={'a':37,'b':0})\n",
    "print(hdi)"
   ]
  },
  {
   "cell_type": "code",
   "execution_count": null,
   "id": "81f85104",
   "metadata": {},
   "outputs": [],
   "source": []
  }
 ],
 "metadata": {
  "kernelspec": {
   "display_name": "Python 3 (ipykernel)",
   "language": "python",
   "name": "python3"
  },
  "language_info": {
   "codemirror_mode": {
    "name": "ipython",
    "version": 3
   },
   "file_extension": ".py",
   "mimetype": "text/x-python",
   "name": "python",
   "nbconvert_exporter": "python",
   "pygments_lexer": "ipython3",
   "version": "3.10.9"
  }
 },
 "nbformat": 4,
 "nbformat_minor": 5
}
